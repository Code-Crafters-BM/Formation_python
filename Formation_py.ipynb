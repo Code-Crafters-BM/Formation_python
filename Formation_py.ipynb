{
  "nbformat": 4,
  "nbformat_minor": 0,
  "metadata": {
    "colab": {
      "provenance": []
    },
    "kernelspec": {
      "name": "python3",
      "display_name": "Python 3"
    },
    "language_info": {
      "name": "python"
    }
  },
  "cells": [
    {
      "cell_type": "markdown",
      "source": [
        "**Functions**"
      ],
      "metadata": {
        "id": "Kf_sE2pTAkG1"
      }
    },
    {
      "cell_type": "code",
      "source": [
        "# Functions , a block of code that is executed only when it called\n",
        "\n",
        "def salam() :\n",
        "  print(\"Salam\")\n",
        "\n",
        "salam()\n",
        "\n",
        "def hello(name) :\n",
        "  print(\"Hello \"+ name)\n",
        "\n",
        "# hello(\"Farid\")\n",
        "\n",
        "\n",
        "# print(f\"this is  {x1}\" )\n",
        "\n",
        "\n",
        "# x = \"Farid\"\n",
        "\n",
        "hello(12)\n",
        "\n",
        "# print(id(hello)) # the memory adress of the function\n",
        "\n",
        "\n",
        "# Return statment in functions\n",
        "\n",
        "def multi(a , b) :\n",
        "  return a * b , a + b , a%b\n",
        "\n",
        "AxB , AB , AcB = multi(5,2)\n",
        "\n",
        "# print(f\"A multiplied B  = {AxB} A + B = {AB} A % B = {AcB}\")\n",
        "\n",
        "# print(\"6 x 7 = \"+str(multi(6,7)))\n",
        "\n",
        "\n",
        "# Key words identifier (first middle last )\n",
        "\n",
        "def saaaalam(name1 , name2 , name3 ) :\n",
        "  print(name1 + name2 + name3 )\n",
        "\n",
        "saaaalam( name3=\"code crafters ,\" , name2=\" hala wallah \" , name1=\"jl\" )\n",
        "\n",
        "\n",
        "\n",
        "\n"
      ],
      "metadata": {
        "colab": {
          "base_uri": "https://localhost:8080/"
        },
        "id": "VyM9LECUAmCF",
        "outputId": "f5dd6cf9-3fa5-4df4-b7de-21c30c007bd2"
      },
      "execution_count": null,
      "outputs": [
        {
          "output_type": "stream",
          "name": "stdout",
          "text": [
            "Salam\n",
            "jl hala wallah code crafters ,\n"
          ]
        }
      ]
    },
    {
      "cell_type": "code",
      "source": [
        "# Exercices\n",
        "\n",
        "def maximum(a, b, c):\n",
        "\n",
        "    if a >= b and a >= c:\n",
        "        return a\n",
        "    elif b >= c:\n",
        "        return b\n",
        "    else:\n",
        "        return c\n",
        "\n",
        "\n",
        "# Appeler la fonction et afficher le résultat\n",
        "print(f\"Le plus grand nombre est : {maximum(15 , 10 , 20 )}\")\n",
        "\n",
        "\n",
        "def switch_variables(a, b):\n",
        "\n",
        "    temp = a\n",
        "    a = b\n",
        "    b = temp\n",
        "    return a, b\n",
        "\n",
        "a = 10\n",
        "b = 4\n",
        "\n",
        "# Appeler la fonction pour échanger les valeurs\n",
        "x, y = switch_variables(9, 15)\n",
        "\n",
        "# Afficher les résultats\n",
        "print(f\"Après échange : x = {x}, y = {y}\")\n",
        "\n",
        "\n",
        "\n"
      ],
      "metadata": {
        "colab": {
          "base_uri": "https://localhost:8080/"
        },
        "id": "kHpTow-fdHzv",
        "outputId": "f7d6af41-2749-4de3-ccb3-cc92f7671acf"
      },
      "execution_count": null,
      "outputs": [
        {
          "output_type": "stream",
          "name": "stdout",
          "text": [
            "Le plus grand nombre est : 20\n"
          ]
        }
      ]
    },
    {
      "cell_type": "markdown",
      "source": [
        "**Indexing**"
      ],
      "metadata": {
        "id": "vbsWxZ4kAWMW"
      }
    },
    {
      "cell_type": "code",
      "execution_count": null,
      "metadata": {
        "colab": {
          "base_uri": "https://localhost:8080/"
        },
        "id": "1_2lzcikyRMD",
        "outputId": "261e2f21-3267-498d-abdc-daed1575dc8f"
      },
      "outputs": [
        {
          "output_type": "stream",
          "name": "stdout",
          "text": [
            "1 1\n",
            "2 1234\n",
            "3 1234\n",
            "4 -567\n",
            "5 -5678-9012-3456\n",
            "6 6\n",
            "7 3456\n",
            "8 13-6891-46\n",
            "9 146-136\n",
            "6543-2109-8765-4321\n",
            "/google.\n",
            "facebook\n",
            "Enter your email: abc@hotmail.com\n",
            "Your username is abc and domain is hotmail.com\n"
          ]
        }
      ],
      "source": [
        "# Indexing : indexing[] or slice()\n",
        "\n",
        "# [start:end:step]\n",
        "\n",
        "# indexing = accessing elements of a sequence using [] (indexing operator)\n",
        "#                     [start : end : step]\n",
        "\n",
        "credit_number = \"1234-5678-9012-3456\"\n",
        "\n",
        "print(\"1 \"+credit_number[0])\n",
        "print(\"2 \"+credit_number[0:4])\n",
        "print(\"3 \"+credit_number[:4])\n",
        "print(\"4 \"+credit_number[4:8])\n",
        "print(\"5 \"+credit_number[4:])\n",
        "print(\"6 \"+credit_number[-1])\n",
        "print(\"7 \"+credit_number[-4:]) # 3456\n",
        "print(\"8 \"+credit_number[::2])\n",
        "print(\"9 \"+credit_number[::3])\n",
        "\n",
        "# EXERCISE 1 (last digits)\n",
        "credit_number = \"1234-5678-9012-3456\"\n",
        "# last_digits = credit_number[-4:]\n",
        "# print(f\"XXXX-XXXX-XXXX-{last_digits}\")\n",
        "\n",
        "# EXERCISE 2 (reversed)\n",
        "credit_number = \"1234-5678-9012-3456\"\n",
        "credit_number = credit_number[::-1]\n",
        "print(credit_number)\n",
        "\n",
        "# Exercice 3 (websites)\n",
        "\n",
        "website1 = \"http://google.com\"\n",
        "website2 = \"http://facebook.com\"\n",
        "\n",
        "print(website1[6:-3])\n",
        "print(website2[7:-4])\n",
        "\n",
        "# Email :\n",
        "\n",
        "email = input(\"Enter your email: \")\n",
        "\n",
        "email2 = \"abc123@gmail.com\"\n",
        "\n",
        "index = email.index(\"@\")\n",
        "\n",
        "username = email[:index]\n",
        "domain = email[index +1 :]\n",
        "\n",
        "print(f\"Your username is {username} and domain is {domain}\")\n",
        "\n",
        "\n",
        "\n",
        "\n",
        "\n",
        "\n"
      ]
    },
    {
      "cell_type": "markdown",
      "source": [
        "\n",
        "**USER INPUT**\n"
      ],
      "metadata": {
        "id": "omuz9upfZY_4"
      }
    },
    {
      "cell_type": "code",
      "source": [
        "name = input(\" what is your name \")\n",
        "\n",
        "age = int(input(\"How old are u \"))\n",
        "\n",
        "height = int(input(\"How tall are u \"))\n",
        "\n",
        "\n",
        "print(\"Your name is  : \"+ name)\n",
        "print(\"You are : \"+ str(age))\n",
        "print(\"You make : \"+ str(height))"
      ],
      "metadata": {
        "colab": {
          "base_uri": "https://localhost:8080/"
        },
        "id": "__rhyrLoZhcI",
        "outputId": "2fded6fc-10a1-4932-9bb7-e025e2e3c1dd"
      },
      "execution_count": null,
      "outputs": [
        {
          "output_type": "stream",
          "name": "stdout",
          "text": [
            " what is your name jl\n",
            "How old are u 21\n",
            "How tall are u 12\n",
            "Your name is  : jl\n",
            "You are : 21\n",
            "You make : 12\n"
          ]
        }
      ]
    },
    {
      "cell_type": "markdown",
      "source": [
        "**LISTS**"
      ],
      "metadata": {
        "id": "f5ZufXlFeQZw"
      }
    },
    {
      "cell_type": "code",
      "source": [
        "#   collection = single \"variable\" used to store muliple values  (mixed data)\n",
        "#   List  = [] ordered and changeable. Duplicates OK\n",
        "#   Set   = {} unordered and immutable, but Add/Remove OK. NO duplicates (if we work with colors for ex (constants) ) (pinted randomly)\n",
        "#   Tuple = () ordered and unchangeable. Duplicates OK. FASTER (no changing , no add no remove)\n",
        "\n",
        "\n",
        "fruits = (\"apple\", \"banana\" ,\"watermelon\", \"apple\" )\n",
        "\n",
        "# print(dir(fruits))\n",
        "# print(help(fruits))\n",
        "# print(len(fruits))\n",
        "\n",
        "# print(\"orange\" in fruits)\n",
        "# print(fruits[0])\n",
        "\n",
        "# fruits[0] = \"codecrafters \"\n",
        "\n",
        "# fruits.append(\"coconut\")\n",
        "# fruits.remove(\"apple\")\n",
        "# fruits.insert(0,\"souihla\")\n",
        "# fruits.sort()\n",
        "# fruits.reverse()\n",
        "# fruits.clear()\n",
        "# print(fruits.index(\"banana\"))\n",
        "\n",
        "\n",
        "\n",
        "## for sets :\n",
        "\n",
        "\n",
        "# print(dir(fruits))\n",
        "# print(help(fruits))\n",
        "# print(len(fruits))\n",
        "\n",
        "# print(\"pineapple\" in fruits)\n",
        "# print(fruits[0])\n",
        "# fruits.add(\"JL\")\n",
        "# fruits.remove(\"JL\")\n",
        "# fruits.pop()\n",
        "# fruits.clear()\n",
        "\n",
        "\n",
        "# for tuples :\n",
        "\n",
        "# print(dir(fruits))\n",
        "# print(help(fruits))\n",
        "# print(len(fruits))\n",
        "\n",
        "# print(fruits.index(\"apple\"))\n",
        "print(fruits.count(\"apple\"))\n",
        "\n",
        "for fruit in fruits :\n",
        "  print(fruit)\n",
        "\n"
      ],
      "metadata": {
        "colab": {
          "base_uri": "https://localhost:8080/"
        },
        "id": "M1MSrIsueS-y",
        "outputId": "d7874b27-4318-4613-baa2-dec532bfae49"
      },
      "execution_count": null,
      "outputs": [
        {
          "output_type": "stream",
          "name": "stdout",
          "text": [
            "2\n",
            "apple\n",
            "banana\n",
            "watermelon\n",
            "apple\n"
          ]
        }
      ]
    },
    {
      "cell_type": "markdown",
      "source": [
        "**Shoppping List**"
      ],
      "metadata": {
        "id": "qumrDmrOoO42"
      }
    },
    {
      "cell_type": "code",
      "source": [
        "# Shopping list exercise\n",
        "\n",
        "foods = []\n",
        "prices = []\n",
        "total = 0\n",
        "\n",
        "while True:\n",
        "    food = input(\"Enter a food to buy (q to quit): \")\n",
        "    if food.lower() == \"q\":\n",
        "        break\n",
        "    else:\n",
        "        price = float(input(f\"Enter the price of a {food}: $\"))\n",
        "        foods.append(food)\n",
        "        prices.append(price)\n",
        "\n",
        "print(\"----- YOUR CART -----\")\n",
        "\n",
        "for food in foods:\n",
        "    print(food, end=\" \")\n",
        "\n",
        "for price in prices:\n",
        "    total += price\n",
        "\n",
        "print()\n",
        "print(f\"Your total is: ${total}\")\n",
        "\n"
      ],
      "metadata": {
        "id": "y_sTBV3yoS_A"
      },
      "execution_count": null,
      "outputs": []
    },
    {
      "cell_type": "markdown",
      "source": [
        "**2D lists**"
      ],
      "metadata": {
        "id": "wg_GUjCGpzRs"
      }
    },
    {
      "cell_type": "code",
      "source": [
        " # Define a 2D list (matrix)\n",
        "matrix = [\n",
        "    [1, 2, 3],  # Row 1\n",
        "    [4, 5, 6],  # Row 2\n",
        "    [7, 8, 9]   # Row 3\n",
        "]\n",
        "\n",
        "# Accessing elements\n",
        "print(matrix[0][1])\n",
        "print(matrix[2][2])\n",
        "\n",
        "# Modifying an element\n",
        "matrix[1][1] = 50\n",
        "print(matrix)\n",
        "\n",
        "# Iterating through rows\n",
        "for row in matrix:\n",
        "    print(row)\n",
        "\n",
        "# Iterating through elements\n",
        "for row in matrix:\n",
        "    for element in row:\n",
        "        print(element, end=\" \")  # Output: 1 2 3 4 50 6 7 8 9\n",
        "\n",
        "\n",
        "############# num pad example #####################\n",
        "\n",
        "\n",
        "'''\n",
        "num_pad = ((1 , 2 , 3 ) ,\n",
        "           (4 , 5 , 6 ) ,\n",
        "           (7 , 8 , 9 ) ,\n",
        "           (\"*\" ,0, \"#\"))\n",
        "\n",
        "\n",
        "for rows in num_pad :\n",
        "  for col in rows :\n",
        "    print(\" \"+str(col) , end=\"\")\n",
        "  print()\n",
        "   '''"
      ],
      "metadata": {
        "colab": {
          "base_uri": "https://localhost:8080/"
        },
        "id": "mgQzECFUp2_l",
        "outputId": "a390a5cf-0e58-4a8f-c228-93eaa9ad02da"
      },
      "execution_count": null,
      "outputs": [
        {
          "output_type": "stream",
          "name": "stdout",
          "text": [
            " 1 2 3\n",
            " 4 5 6\n",
            " 7 8 9\n",
            " * 0 #\n"
          ]
        }
      ]
    },
    {
      "cell_type": "markdown",
      "source": [
        "**dic**"
      ],
      "metadata": {
        "id": "dHnZCgawsCyZ"
      }
    },
    {
      "cell_type": "code",
      "source": [
        "# dictionary =  a collection of {key:value} pairs\n",
        "#                        ordered and changeable. No duplicates\n",
        "\n",
        "capitals = {\"USA\": \"Washington D.C.\",\n",
        "                    \"India\": \"New Delhi\",\n",
        "                    \"China\": \"Beijing\",\n",
        "                    \"Russia\": \"Moscow\"}\n",
        "\n",
        "# print(dir(capitals))\n",
        "# print(help(capitals))\n",
        "# print(capitals.get(\"Japan\"))\n",
        "\n",
        "# if capitals.get(\"Russia\"):\n",
        "#    print(\"That capital exists\")\n",
        "# else:\n",
        "#    print(\"That capital doesn't exist\")\n",
        "\n",
        "# capitals.update({\"Germany\": \"Berlin\"})\n",
        "# capitals.update({\"USA\": \"Detroit\"})\n",
        "# capitals.pop(\"China\")\n",
        "# capitals.popitem()\n",
        "# capitals.clear()\n",
        "\n",
        "# keys = capitals.keys()\n",
        "# for key in capitals.keys():\n",
        "#   print(key)\n",
        "\n",
        "# values = capitals.values()\n",
        "# for value in capitals.values():\n",
        "# print(value)\n",
        "\n",
        "# items = capitals.items()\n",
        "# for key, value in capitals.items():\n",
        "#    print(f\"{key}: {value}\")"
      ],
      "metadata": {
        "id": "VocRUwzAsFXe"
      },
      "execution_count": null,
      "outputs": []
    },
    {
      "cell_type": "markdown",
      "source": [
        "**dic exercice**"
      ],
      "metadata": {
        "id": "b6DLzMjCtIqg"
      }
    },
    {
      "cell_type": "code",
      "source": [
        "# Concession stand program\n",
        "\n",
        "menu = {\"pizza\": 3.00,\n",
        "               \"nachos\": 4.50,\n",
        "               \"popcorn\": 6.00,\n",
        "               \"fries\": 2.50,\n",
        "               \"chips\": 1.00,\n",
        "               \"pretzel\": 3.50,\n",
        "               \"soda\": 3.00,\n",
        "               \"lemonade\": 4.25}\n",
        "cart = []\n",
        "total = 0\n",
        "\n",
        "print(\"--------- MENU ---------\")\n",
        "for key, value in menu.items():\n",
        "    print(f\"{key:10}: ${value:.2f}\")\n",
        "print(\"------------------------\")\n",
        "\n",
        "while True:\n",
        "    food = input(\"Select an item (q to quit): \").lower()\n",
        "    if food == \"q\":\n",
        "        break\n",
        "    elif menu.get(food) is not None:\n",
        "        cart.append(food)\n",
        "\n",
        "print(\"------ YOUR ORDER ------\")\n",
        "for food in cart:\n",
        "    total += menu.get(food)\n",
        "    print(food, end=\" \")\n",
        "\n",
        "print()\n",
        "print(f\"Total is: ${total:.2f}\")"
      ],
      "metadata": {
        "colab": {
          "base_uri": "https://localhost:8080/"
        },
        "id": "aZNevVL-tMWF",
        "outputId": "ed9e5c9f-d770-4062-88d5-f4215df8dbbe"
      },
      "execution_count": null,
      "outputs": [
        {
          "output_type": "stream",
          "name": "stdout",
          "text": [
            "--------- MENU ---------\n",
            "pizza     : $3.00\n",
            "nachos    : $4.50\n",
            "popcorn   : $6.00\n",
            "fries     : $2.50\n",
            "chips     : $1.00\n",
            "pretzel   : $3.50\n",
            "soda      : $3.00\n",
            "lemonade  : $4.25\n",
            "------------------------\n",
            "Select an item (q to quit): pizza\n",
            "Select an item (q to quit): q\n",
            "------ YOUR ORDER ------\n",
            "pizza \n",
            "Total is: $3.00\n"
          ]
        }
      ]
    },
    {
      "cell_type": "markdown",
      "source": [
        "\n",
        "\n",
        "**POO , programming oriented object**\n",
        "\n"
      ],
      "metadata": {
        "id": "Awea7Axz5AW7"
      }
    },
    {
      "cell_type": "code",
      "source": [
        "class Car:\n",
        "   def __init__(self, model, year, color, for_sale):\n",
        "       self.model = model\n",
        "       self.year = year\n",
        "       self.color = color\n",
        "       self.for_sale = for_sale\n",
        "\n",
        "   def drive(self):\n",
        "       # print(\"You drive the car\")\n",
        "       # print(f\"You drive the {self.model}\")\n",
        "       print(f\"You drive the {self.color} {self.model}\")\n",
        "\n",
        "   def stop(self):\n",
        "       # print(\"You stop the car\")\n",
        "       # print(f\"You stop the {self.model}\")\n",
        "       print(f\"You stop the {self.color} {self.model}\")\n",
        "\n",
        "   def describe(self):\n",
        "       print(f\"{self.year} {self.color} {self.model}\")\n",
        "\n",
        "\n",
        "\n",
        "\n",
        "car1 = Car(\"Mustang\", 2024, \"red\", False)\n",
        "car2 = Car(\"Corvette\", 2025, \"blue\", True)\n",
        "car3 = Car(\"Charger\", 2026, \"yellow\", True)\n",
        "\n",
        "print(car1.model)\n",
        "print(car1.year)\n",
        "print(car1.color)\n",
        "print(car1.for_sale)\n",
        "\n",
        "car1.drive()\n",
        "car1.stop()\n",
        "car3.describe()"
      ],
      "metadata": {
        "colab": {
          "base_uri": "https://localhost:8080/"
        },
        "id": "CjIsU_Q-4-n8",
        "outputId": "de0ca36f-4a08-4b40-ef2c-fa0b5f3ff102"
      },
      "execution_count": null,
      "outputs": [
        {
          "output_type": "stream",
          "name": "stdout",
          "text": [
            "Mustang\n",
            "2024\n",
            "red\n",
            "False\n",
            "You drive the red Mustang\n",
            "You stop the red Mustang\n",
            "2026 yellow Charger\n"
          ]
        }
      ]
    },
    {
      "cell_type": "markdown",
      "source": [
        "**class variable**"
      ],
      "metadata": {
        "id": "S9uHrwKr63cY"
      }
    },
    {
      "cell_type": "code",
      "source": [
        "# class variables = Shared among all instances of a class\n",
        "#                               Defined outside the constructor\n",
        "#                               Allow you to share data among all objects created from that class\n",
        "\n",
        "class Student:\n",
        "\n",
        "   class_year = 2025\n",
        "   num_students = 0\n",
        "\n",
        "   def __init__(self, name, age):\n",
        "       self.name = name\n",
        "       self.age = age\n",
        "       Student.num_students += 1\n",
        "\n",
        "student1 = Student(\"Spongebob\", 30)\n",
        "student2 = Student(\"Patrick\", 35)\n",
        "student3 = Student(\"Squidward\", 55)\n",
        "student4 = Student(\"Sandy\", 27)\n",
        "\n",
        "print(f\"My graduating class of {Student.class_year} has {Student.num_students} students\")\n",
        "print(student1.name)\n",
        "print(student2.name)\n",
        "print(student3.name)\n",
        "print(student4.name)"
      ],
      "metadata": {
        "id": "uaHQYvXI655e"
      },
      "execution_count": null,
      "outputs": []
    },
    {
      "cell_type": "markdown",
      "source": [
        "**Inheritance**"
      ],
      "metadata": {
        "id": "-VuMimDY7-h0"
      }
    },
    {
      "cell_type": "code",
      "source": [
        "# Inheritance = Allows a class to inherit attributes and methods from another class\n",
        "#                         Helps with code reusability and extensibility\n",
        "#                         class Child(Parent)\n",
        "\n",
        "class Animal:\n",
        "    def __init__(self, name):\n",
        "        self.name = name\n",
        "        self.is_alive = True\n",
        "\n",
        "    def eat(self):\n",
        "        print(f\"{self.name} is eating\")\n",
        "\n",
        "    def sleep(self):\n",
        "        print(f\"{self.name} is asleep\")\n",
        "\n",
        "class Dog(Animal):\n",
        "    def speak(self):\n",
        "        print(\"WOOF!\")\n",
        "\n",
        "class Cat(Animal):\n",
        "    def speak(self):\n",
        "        print(\"MEOW!\")\n",
        "\n",
        "class Mouse(Animal):\n",
        "    def speak(self):\n",
        "        print(\"SQUEEK!\")\n",
        "\n",
        "dog = Dog(\"Scooby\")\n",
        "cat = Cat(\"Garfield\")\n",
        "mouse = Mouse(\"Mickey\")"
      ],
      "metadata": {
        "id": "XqB3VTDA8BQt"
      },
      "execution_count": null,
      "outputs": []
    }
  ]
}